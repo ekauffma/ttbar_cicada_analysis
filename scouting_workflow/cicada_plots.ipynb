{
 "cells": [
  {
   "cell_type": "code",
   "execution_count": null,
   "id": "62fd4c84-75ae-4d2e-ad2f-7371525a76a7",
   "metadata": {
    "tags": []
   },
   "outputs": [],
   "source": [
    "import hist\n",
    "import time\n",
    "import json\n",
    "import dask\n",
    "import dill \n",
    "import operator\n",
    "import numba\n",
    "import numpy as np\n",
    "import pandas as pd\n",
    "from functools import reduce\n",
    "from pprint import pprint\n",
    "from itertools import combinations, combinations_with_replacement\n",
    "from collections import defaultdict\n",
    "\n",
    "import awkward as ak\n",
    "import dask_awkward as dak\n",
    "import hist.dask as hda\n",
    "import vector\n",
    "vector.register_awkward()\n",
    "\n",
    "import matplotlib.colors as colors\n",
    "import matplotlib.pyplot as plt\n",
    "import mplhep as hep\n",
    "import matplotlib.backends.backend_pdf\n",
    "from matplotlib.backends.backend_pdf import PdfPages\n",
    "\n",
    "plt.style.use('seaborn-v0_8-white')\n",
    "plt.rcParams['figure.dpi'] = 200\n",
    "hep.style.use('CMS')"
   ]
  },
  {
   "cell_type": "code",
   "execution_count": null,
   "id": "fd0fd01c-fea3-49ca-b3f4-5e4c42fc8607",
   "metadata": {
    "tags": []
   },
   "outputs": [],
   "source": [
    "def getHist(dataDict, mapList):\n",
    "    return reduce(operator.getitem, mapList, dataDict)\n",
    "\n",
    "def draw_thresholds(ax, threshold_map):\n",
    "    for th in threshold_map.values():\n",
    "        ax.axvline(x=th['score'], \n",
    "                   label=th['name'], \n",
    "                   color=th['color'],\n",
    "                   linestyle='--',\n",
    "                   linewidth=3,\n",
    "        )"
   ]
  },
  {
   "cell_type": "code",
   "execution_count": null,
   "id": "1ddf0d89-442c-47b8-a7b7-a7c83effb1aa",
   "metadata": {
    "tags": []
   },
   "outputs": [],
   "source": [
    "import dill\n",
    "# with open(f'hist_result_TT_TuneCP5_13p6TeV_powheg-pythia8_ttbar.pkl', 'rb') as file:\n",
    "with open(f'hist_result_Scouting_2024I_ttbar_inspection4.pkl', 'rb') as file:\n",
    "    hist_result = dill.load(file)"
   ]
  },
  {
   "cell_type": "code",
   "execution_count": null,
   "id": "3f7d6b3f-2c4a-4d13-b61e-b22fa2fa7786",
   "metadata": {
    "tags": []
   },
   "outputs": [],
   "source": [
    "hist_result"
   ]
  },
  {
   "cell_type": "code",
   "execution_count": null,
   "id": "858b214f-fc31-4ff6-a697-872a9ecd993f",
   "metadata": {
    "tags": []
   },
   "outputs": [],
   "source": [
    "import matplotlib as mpl\n",
    "from cycler import cycler\n",
    "\n",
    "mpl.rcParams['axes.prop_cycle'] = cycler(\n",
    "    color=[\n",
    "        '#3f90da', \n",
    "        '#ffa90e', \n",
    "        '#bd1f01', \n",
    "        '#94a4a2', \n",
    "        '#832db6', \n",
    "        '#a96b59', \n",
    "        '#e76300', \n",
    "        '#b9ac70', \n",
    "        '#717581', \n",
    "        '#92dadd'\n",
    "    ]\n",
    ")"
   ]
  },
  {
   "cell_type": "code",
   "execution_count": null,
   "id": "82c7a9eb-4ad1-4b72-a442-cf55cb579342",
   "metadata": {
    "tags": []
   },
   "outputs": [],
   "source": [
    "def draw_hist1d(hist_in, ax, trigger, label='', rebin=1, norm=False):\n",
    "    hist_in = hist_in[:, trigger, hist.rebin(rebin)]\n",
    "    counts, _, bins = hist_in.to_numpy()\n",
    "    if len(counts)>0: # check that there are events to plot\n",
    "        _counts = counts[0]/(np.sum(counts[0])*np.diff(bins)) if norm else counts[0]\n",
    "        errs = np.sqrt(counts[0])/(np.sum(counts[0])*np.diff(bins)) if norm else np.sqrt(counts[0])\n",
    "        _errs = np.where(_counts==0, 0, errs)\n",
    "        bin_centres = 0.5*(bins[1:] + bins[:-1])\n",
    "        l = ax.errorbar(x=bin_centres,y=_counts,yerr=_errs,linestyle='')\n",
    "        color = l[0].get_color()\n",
    "        ax.errorbar(x=bins[:-1],y=_counts,drawstyle='steps-post',label=label,color=color)\n",
    "        \n",
    "    else:        \n",
    "        l = ax.errorbar(x=[],y=[],yerr=[],drawstyle='steps-post') # plot nothing\n",
    "        color = l[0].get_color()\n",
    "        ax.errorbar(x=[],y=[],drawstyle='steps-post',label=label,color=color)"
   ]
  },
  {
   "cell_type": "code",
   "execution_count": null,
   "id": "36bade04-64ba-42da-ada4-ecc3634ee0a6",
   "metadata": {
    "tags": []
   },
   "outputs": [],
   "source": [
    "histpath = ['TT_TuneCP5_13p6TeV_powheg-pythia8', 'hists']\n",
    "histpath = ['Scouting_2024I', 'hists']\n",
    "triggers = [\n",
    "    # 'DST_PFScouting_AXONominal', \n",
    "    # 'DST_PFScouting_AXOTight', \n",
    "    # 'DST_PFScouting_AXOVTight',\n",
    "    # 'DST_PFScouting_CICADAMedium', \n",
    "    # 'DST_PFScouting_CICADATight', \n",
    "    # 'DST_PFScouting_CICADAVTight',\n",
    "    'DST_PFScouting_ZeroBias'\n",
    "]\n",
    "trigger_names = {\n",
    "    'DST_PFScouting_AXOLoose': 'AXO Loose', \n",
    "    'DST_PFScouting_AXONominal': 'AXO Nominal', \n",
    "    'DST_PFScouting_AXOTight': 'AXO Tight', \n",
    "    'DST_PFScouting_AXOVLoose': 'AXO VLoose',\n",
    "    'DST_PFScouting_AXOVTight': 'AXO VTight',\n",
    "    'DST_PFScouting_CICADAMedium': 'CICADA Medium', \n",
    "    'DST_PFScouting_CICADATight': 'CICADA Tight', \n",
    "    'DST_PFScouting_CICADAVTight': 'CICADA VTight', \n",
    "    'DST_PFScouting_DoubleMuon': 'Double Muon',\n",
    "    'DST_PFScouting_JetHT': 'Jet HT',\n",
    "    'DST_PFScouting_ZeroBias': 'Zero Bias'\n",
    "}"
   ]
  },
  {
   "cell_type": "code",
   "execution_count": null,
   "id": "2081580d-1537-4788-be8c-36ea21a6eaf1",
   "metadata": {
    "tags": []
   },
   "outputs": [],
   "source": [
    "fig, ax = plt.subplots(1, 2, figsize=(24, 10))\n",
    "hist_name =  'trijet_mass'\n",
    "norm = False#\n",
    "\n",
    "#draw_hist1d(getHist(hist_result, histpath+[get_name(None)]), ax[0], label='All Events', rebin=1, norm=norm)\n",
    "for trigger in triggers:\n",
    "    print(trigger)\n",
    "    hist_current = getHist(hist_result, histpath+[hist_name])\n",
    "    draw_hist1d(hist_current, ax[0], trigger, label=trigger_names[trigger], rebin=2, norm=norm)\n",
    "\n",
    "hep.cms.label('', ax=ax[0], data=True, lumi=None, year=\"Scouting 2024I\", com=13.6)\n",
    "ax[0].set_xlim(0,500)\n",
    "ax[0].set_ylabel(f'Events{\" [A.U.]\" if norm else \"\"}', loc='top')\n",
    "ax[0].set_xlabel(r'$m_{\\text{trijet}}$ [GeV]', loc='right')\n",
    "# ax[0].set_yscale('log')\n",
    "ax[0].legend();\n",
    "ax[1].set_visible(False)"
   ]
  },
  {
   "cell_type": "code",
   "execution_count": null,
   "id": "804d02a4-37b1-44ba-a987-09e1cd1208f6",
   "metadata": {},
   "outputs": [],
   "source": [
    "fig, ax = plt.subplots(1, 2, figsize=(24, 10))\n",
    "hist_name =  'trijet_pt'\n",
    "norm = False#\n",
    "\n",
    "#draw_hist1d(getHist(hist_result, histpath+[get_name(None)]), ax[0], label='All Events', rebin=1, norm=norm)\n",
    "for trigger in triggers:\n",
    "    print(trigger)\n",
    "    hist_current = getHist(hist_result, histpath+[hist_name])\n",
    "    draw_hist1d(hist_current, ax[0], trigger, label=trigger_names[trigger], rebin=1, norm=norm)\n",
    "\n",
    "hep.cms.label('', ax=ax[0], data=True, lumi=None, year=\"Scouting 2024I\", com=13.6)\n",
    "ax[0].set_xlim(0,300)\n",
    "ax[0].set_ylabel(f'Events{\" [A.U.]\" if norm else \"\"}', loc='top')\n",
    "ax[0].set_xlabel(r'$p_{T_{\\text{trijet}}}$ [GeV]', loc='right')\n",
    "# ax[0].set_yscale('log')\n",
    "ax[0].legend();\n",
    "ax[1].set_visible(False)"
   ]
  },
  {
   "cell_type": "code",
   "execution_count": null,
   "id": "670a7ae8-1351-431a-aaa2-1906b3f69ec2",
   "metadata": {
    "tags": []
   },
   "outputs": [],
   "source": [
    "fig, ax = plt.subplots(1, 2, figsize=(24, 10))\n",
    "hist_name =  'trijet_eta'\n",
    "norm = False#\n",
    "\n",
    "#draw_hist1d(getHist(hist_result, histpath+[get_name(None)]), ax[0], label='All Events', rebin=1, norm=norm)\n",
    "for trigger in triggers:\n",
    "    print(trigger)\n",
    "    hist_current = getHist(hist_result, histpath+[hist_name])\n",
    "    draw_hist1d(hist_current, ax[0], trigger, label=trigger_names[trigger], rebin=3, norm=norm)\n",
    "\n",
    "hep.cms.label('', ax=ax[0], data=True, lumi=None, year=\"Scouting 2024I\", com=13.6)\n",
    "ax[0].set_xlim(-4,4)\n",
    "ax[0].set_ylabel(f'Events{\" [A.U.]\" if norm else \"\"}', loc='top')\n",
    "ax[0].set_xlabel(r'$\\eta_{\\text{trijet}}$ ', loc='right')\n",
    "# ax[0].set_yscale('log')\n",
    "ax[0].legend();\n",
    "ax[1].set_visible(False)"
   ]
  },
  {
   "cell_type": "code",
   "execution_count": null,
   "id": "27c32b6b-b7f0-49dc-b57c-5885e906a6ab",
   "metadata": {
    "tags": []
   },
   "outputs": [],
   "source": [
    "fig, ax = plt.subplots(1, 2, figsize=(24, 10))\n",
    "hist_name =  'trijet_phi'\n",
    "norm = False#\n",
    "\n",
    "#draw_hist1d(getHist(hist_result, histpath+[get_name(None)]), ax[0], label='All Events', rebin=1, norm=norm)\n",
    "for trigger in triggers:\n",
    "    print(trigger)\n",
    "    hist_current = getHist(hist_result, histpath+[hist_name])\n",
    "    draw_hist1d(hist_current, ax[0], trigger, label=trigger_names[trigger], rebin=1, norm=norm)\n",
    "\n",
    "hep.cms.label('', ax=ax[0], data=True, lumi=None, year=\"Scouting 2024I\", com=13.6)\n",
    "ax[0].set_xlim(-3.14,3.14)\n",
    "ax[0].set_ylabel(f'Events{\" [A.U.]\" if norm else \"\"}', loc='top')\n",
    "ax[0].set_xlabel(r'$\\phi_{\\text{trijet}}$', loc='right')\n",
    "# ax[0].set_yscale('log')\n",
    "ax[0].legend();\n",
    "ax[1].set_visible(False)"
   ]
  },
  {
   "cell_type": "code",
   "execution_count": null,
   "id": "7f03021c-c58e-4a6f-8538-8dea8286f00b",
   "metadata": {
    "tags": []
   },
   "outputs": [],
   "source": [
    "fig, ax = plt.subplots(1, 2, figsize=(24, 10))\n",
    "hist_name =  'lead_jet_pt'\n",
    "norm = False#\n",
    "\n",
    "#draw_hist1d(getHist(hist_result, histpath+[get_name(None)]), ax[0], label='All Events', rebin=1, norm=norm)\n",
    "for trigger in triggers:\n",
    "    print(trigger)\n",
    "    hist_current = getHist(hist_result, histpath+[hist_name])\n",
    "    draw_hist1d(hist_current, ax[0], trigger, label=trigger_names[trigger], rebin=1, norm=norm)\n",
    "\n",
    "hep.cms.label('', ax=ax[0], data=True, lumi=None, year=\"Scouting 2024I\", com=13.6)\n",
    "ax[0].set_xlim(0,300)\n",
    "ax[0].set_ylabel(f'Events{\" [A.U.]\" if norm else \"\"}', loc='top')\n",
    "ax[0].set_xlabel(r'Lead Jet $p_T$ [GeV]', loc='right')\n",
    "# ax[0].set_yscale('log')\n",
    "ax[0].legend();\n",
    "ax[1].set_visible(False)"
   ]
  },
  {
   "cell_type": "code",
   "execution_count": null,
   "id": "df02b8ec-d779-4677-b1b5-7c6c845650b1",
   "metadata": {
    "tags": []
   },
   "outputs": [],
   "source": [
    "fig, ax = plt.subplots(1, 2, figsize=(24, 10))\n",
    "hist_name =  'lead_jet_eta'\n",
    "norm = False#\n",
    "\n",
    "#draw_hist1d(getHist(hist_result, histpath+[get_name(None)]), ax[0], label='All Events', rebin=1, norm=norm)\n",
    "for trigger in triggers:\n",
    "    print(trigger)\n",
    "    hist_current = getHist(hist_result, histpath+[hist_name])\n",
    "    draw_hist1d(hist_current, ax[0], trigger, label=trigger_names[trigger], rebin=1, norm=norm)\n",
    "\n",
    "hep.cms.label('', ax=ax[0], data=True, lumi=None, year=\"Scouting 2024I\", com=13.6)\n",
    "ax[0].set_xlim(-4,4)\n",
    "ax[0].set_ylabel(f'Events{\" [A.U.]\" if norm else \"\"}', loc='top')\n",
    "ax[0].set_xlabel(r'Lead Jet $\\eta$', loc='right')\n",
    "# ax[0].set_yscale('log')\n",
    "ax[0].legend();\n",
    "ax[1].set_visible(False)"
   ]
  },
  {
   "cell_type": "code",
   "execution_count": null,
   "id": "c5419479-f8de-400e-809c-646c5a465241",
   "metadata": {
    "tags": []
   },
   "outputs": [],
   "source": [
    "fig, ax = plt.subplots(1, 2, figsize=(24, 10))\n",
    "hist_name =  'lead_jet_phi'\n",
    "norm = False#\n",
    "\n",
    "#draw_hist1d(getHist(hist_result, histpath+[get_name(None)]), ax[0], label='All Events', rebin=1, norm=norm)\n",
    "for trigger in triggers:\n",
    "    print(trigger)\n",
    "    hist_current = getHist(hist_result, histpath+[hist_name])\n",
    "    draw_hist1d(hist_current, ax[0], trigger, label=trigger_names[trigger], rebin=1, norm=norm)\n",
    "\n",
    "hep.cms.label('', ax=ax[0], data=True, lumi=None, year=\"Scouting 2024I\", com=13.6)\n",
    "ax[0].set_xlim(-3.14,3.14)\n",
    "ax[0].set_ylabel(f'Events{\" [A.U.]\" if norm else \"\"}', loc='top')\n",
    "ax[0].set_xlabel(r'Lead Jet $\\phi$', loc='right')\n",
    "# ax[0].set_yscale('log')\n",
    "ax[0].legend();\n",
    "ax[1].set_visible(False)"
   ]
  },
  {
   "cell_type": "code",
   "execution_count": null,
   "id": "322ea551-2932-421a-bdd8-2910b2b60514",
   "metadata": {
    "tags": []
   },
   "outputs": [],
   "source": [
    "fig, ax = plt.subplots(1, 2, figsize=(24, 10))\n",
    "hist_name =  'sublead_jet_pt'\n",
    "norm = False#\n",
    "\n",
    "#draw_hist1d(getHist(hist_result, histpath+[get_name(None)]), ax[0], label='All Events', rebin=1, norm=norm)\n",
    "for trigger in triggers:\n",
    "    print(trigger)\n",
    "    hist_current = getHist(hist_result, histpath+[hist_name])\n",
    "    draw_hist1d(hist_current, ax[0], trigger, label=trigger_names[trigger], rebin=1, norm=norm)\n",
    "\n",
    "hep.cms.label('', ax=ax[0], data=True, lumi=None, year=\"Scouting 2024I\", com=13.6)\n",
    "ax[0].set_xlim(0,300)\n",
    "ax[0].set_ylabel(f'Events{\" [A.U.]\" if norm else \"\"}', loc='top')\n",
    "ax[0].set_xlabel(r'Sub-Leading Jet $p_T$ [GeV]', loc='right')\n",
    "# ax[0].set_yscale('log')\n",
    "ax[0].legend();\n",
    "ax[1].set_visible(False)"
   ]
  },
  {
   "cell_type": "code",
   "execution_count": null,
   "id": "34f28197-f716-4223-bbfd-231dab9154d7",
   "metadata": {
    "tags": []
   },
   "outputs": [],
   "source": [
    "fig, ax = plt.subplots(1, 2, figsize=(24, 10))\n",
    "hist_name =  'sublead_jet_eta'\n",
    "norm = False#\n",
    "\n",
    "#draw_hist1d(getHist(hist_result, histpath+[get_name(None)]), ax[0], label='All Events', rebin=1, norm=norm)\n",
    "for trigger in triggers:\n",
    "    print(trigger)\n",
    "    hist_current = getHist(hist_result, histpath+[hist_name])\n",
    "    draw_hist1d(hist_current, ax[0], trigger, label=trigger_names[trigger], rebin=1, norm=norm)\n",
    "\n",
    "hep.cms.label('', ax=ax[0], data=True, lumi=None, year=\"Scouting 2024I\", com=13.6)\n",
    "ax[0].set_xlim(-4,4)\n",
    "ax[0].set_ylabel(f'Events{\" [A.U.]\" if norm else \"\"}', loc='top')\n",
    "ax[0].set_xlabel(r'Sub-Leading Jet $\\eta$', loc='right')\n",
    "# ax[0].set_yscale('log')\n",
    "ax[0].legend();\n",
    "ax[1].set_visible(False)"
   ]
  },
  {
   "cell_type": "code",
   "execution_count": null,
   "id": "45df4f97-aa03-4c56-914d-f21a164e1795",
   "metadata": {
    "tags": []
   },
   "outputs": [],
   "source": [
    "fig, ax = plt.subplots(1, 2, figsize=(24, 10))\n",
    "hist_name =  'sublead_jet_phi'\n",
    "norm = False#\n",
    "\n",
    "#draw_hist1d(getHist(hist_result, histpath+[get_name(None)]), ax[0], label='All Events', rebin=1, norm=norm)\n",
    "for trigger in triggers:\n",
    "    print(trigger)\n",
    "    hist_current = getHist(hist_result, histpath+[hist_name])\n",
    "    draw_hist1d(hist_current, ax[0], trigger, label=trigger_names[trigger], rebin=1, norm=norm)\n",
    "\n",
    "hep.cms.label('', ax=ax[0], data=True, lumi=None, year=\"Scouting 2024I\", com=13.6)\n",
    "ax[0].set_xlim(-3.14,3.14)\n",
    "ax[0].set_ylabel(f'Events{\" [A.U.]\" if norm else \"\"}', loc='top')\n",
    "ax[0].set_xlabel(r'Sub-Leading Jet $\\phi$', loc='right')\n",
    "# ax[0].set_yscale('log')\n",
    "ax[0].legend();\n",
    "ax[1].set_visible(False)"
   ]
  },
  {
   "cell_type": "code",
   "execution_count": null,
   "id": "d79021d8-3a77-4a11-904d-5c13459a7fdc",
   "metadata": {
    "tags": []
   },
   "outputs": [],
   "source": [
    "fig, ax = plt.subplots(1, 2, figsize=(24, 10))\n",
    "hist_name =  'subsublead_jet_pt'\n",
    "norm = False#\n",
    "\n",
    "#draw_hist1d(getHist(hist_result, histpath+[get_name(None)]), ax[0], label='All Events', rebin=1, norm=norm)\n",
    "for trigger in triggers:\n",
    "    print(trigger)\n",
    "    hist_current = getHist(hist_result, histpath+[hist_name])\n",
    "    draw_hist1d(hist_current, ax[0], trigger, label=trigger_names[trigger], rebin=1, norm=norm)\n",
    "\n",
    "hep.cms.label('', ax=ax[0], data=True, lumi=None, year=\"Scouting 2024I\", com=13.6)\n",
    "ax[0].set_xlim(0,300)\n",
    "ax[0].set_ylabel(f'Events{\" [A.U.]\" if norm else \"\"}', loc='top')\n",
    "ax[0].set_xlabel(r'Sub-sub-Leading Jet $p_T$ [GeV]', loc='right')\n",
    "# ax[0].set_yscale('log')\n",
    "ax[0].legend();\n",
    "ax[1].set_visible(False)"
   ]
  },
  {
   "cell_type": "code",
   "execution_count": null,
   "id": "603e0986-b902-45f1-a450-e7333ba3bbfb",
   "metadata": {
    "tags": []
   },
   "outputs": [],
   "source": [
    "fig, ax = plt.subplots(1, 2, figsize=(24, 10))\n",
    "hist_name =  'subsublead_jet_eta'\n",
    "norm = False#\n",
    "\n",
    "#draw_hist1d(getHist(hist_result, histpath+[get_name(None)]), ax[0], label='All Events', rebin=1, norm=norm)\n",
    "for trigger in triggers:\n",
    "    print(trigger)\n",
    "    hist_current = getHist(hist_result, histpath+[hist_name])\n",
    "    draw_hist1d(hist_current, ax[0], trigger, label=trigger_names[trigger], rebin=1, norm=norm)\n",
    "\n",
    "hep.cms.label('', ax=ax[0], data=True, lumi=None, year=\"Scouting 2024I\", com=13.6)\n",
    "ax[0].set_xlim(-4,4)\n",
    "ax[0].set_ylabel(f'Events{\" [A.U.]\" if norm else \"\"}', loc='top')\n",
    "ax[0].set_xlabel(r'Sub-sub-Leading Jet $\\eta$', loc='right')\n",
    "# ax[0].set_yscale('log')\n",
    "ax[0].legend();\n",
    "ax[1].set_visible(False)"
   ]
  },
  {
   "cell_type": "code",
   "execution_count": null,
   "id": "33ece876-06b4-48f6-ac70-9f035894a13c",
   "metadata": {
    "tags": []
   },
   "outputs": [],
   "source": [
    "fig, ax = plt.subplots(1, 2, figsize=(24, 10))\n",
    "hist_name =  'subsublead_jet_phi'\n",
    "norm = False#\n",
    "\n",
    "#draw_hist1d(getHist(hist_result, histpath+[get_name(None)]), ax[0], label='All Events', rebin=1, norm=norm)\n",
    "for trigger in triggers:\n",
    "    print(trigger)\n",
    "    hist_current = getHist(hist_result, histpath+[hist_name])\n",
    "    draw_hist1d(hist_current, ax[0], trigger, label=trigger_names[trigger], rebin=1, norm=norm)\n",
    "\n",
    "hep.cms.label('', ax=ax[0], data=True, lumi=None, year=\"Scouting 2024I\", com=13.6)\n",
    "ax[0].set_xlim(-3.14,3.14)\n",
    "ax[0].set_ylabel(f'Events{\" [A.U.]\" if norm else \"\"}', loc='top')\n",
    "ax[0].set_xlabel(r'Sub-sub-Leading Jet $\\phi$', loc='right')\n",
    "# ax[0].set_yscale('log')\n",
    "ax[0].legend();\n",
    "ax[1].set_visible(False)"
   ]
  },
  {
   "cell_type": "code",
   "execution_count": null,
   "id": "92b0466d-ee6b-4be3-abdb-ed44d0b7cf9e",
   "metadata": {},
   "outputs": [],
   "source": []
  },
  {
   "cell_type": "code",
   "execution_count": null,
   "id": "94134925-4d1f-477d-9da6-83aebff77db5",
   "metadata": {},
   "outputs": [],
   "source": []
  }
 ],
 "metadata": {
  "kernelspec": {
   "display_name": "Python 3 (ipykernel)",
   "language": "python",
   "name": "python3"
  },
  "language_info": {
   "codemirror_mode": {
    "name": "ipython",
    "version": 3
   },
   "file_extension": ".py",
   "mimetype": "text/x-python",
   "name": "python",
   "nbconvert_exporter": "python",
   "pygments_lexer": "ipython3",
   "version": "3.10.13"
  }
 },
 "nbformat": 4,
 "nbformat_minor": 5
}
